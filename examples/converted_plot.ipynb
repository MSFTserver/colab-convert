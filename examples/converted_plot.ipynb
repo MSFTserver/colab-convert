{
  "cells": [
    {
      "cell_type": "markdown",
      "metadata": {
        "id": "TitleTop"
      },
      "source": "## Matplot example\n\n** Run the cell below to import some packages and show a line plot **"
    },
    {
      "cell_type": "code",
      "metadata": {
        "id": "PlotIt"
      },
      "source": [
        "import matplotlib.pyplot as plt\n",
        "import numpy as np\n",
        "\n",
        "# test nesting and subprocesses\n",
        "if True:\n",
        "    !touch test_file.txt\n",
        "    !git clone https://github.com/MSFTserver/pytorch3d-lite.git\n",
        "    %pip list --outdated\n",
        "\n",
        "#test directory magic\n",
        "%ls\n",
        "%cd ..\n",
        "%ls\n",
        "%rm -r pytorch3d-lite\n",
        "%mkdir test_dir/test_subdir\n",
        "%cat test_file.txt\n",
        "%mv test_file.txt test_dir\n",
        "%ls test_dir\n",
        "%cp test_dir/test_file.txt test_dir/test_subdir/test_file.txt\n",
        "%ls\n",
        "%rm test_file.txt\n",
        "%ls\n",
        "%mv test_dir/test_file.txt test_dir/test_subdir/test_file.txt\n",
        "\n",
        "# test environment magic\n",
        "%env\n",
        "%env PATH\n",
        "%env TEST_COLAB_CONVERT=HELLO\n",
        "%set_env TEST_COLAB_CONVERT=HELLO\n",
        "%env TEST_COLAB_CONVERT\n",
        "%env TEST_COLAB_CONVERT GOODBYE\n",
        "%set_env TEST_COLAB_CONVERT GOODBYE\n",
        "%env TEST_COLAB_CONVERT\n",
        "\n",
        "%notValid\n",
        "\n",
        "x = np.linspace(0, 20, 100)\n",
        "plt.plot(x, np.sin(x))\n",
        "plt.show()"
      ],
      "outputs": [],
      "execution_count": null
    }
  ],
  "metadata": {
    "anaconda-cloud": {},
    "kernelspec": {
      "display_name": "Python 3",
      "language": "python",
      "name": "python3"
    },
    "language_info": {
      "codemirror_mode": {
        "name": "ipython",
        "version": 3
      },
      "file_extension": ".py",
      "mimetype": "text/x-python",
      "name": "python",
      "nbconvert_exporter": "python",
      "pygments_lexer": "ipython3",
      "version": "3.6.1"
    }
  },
  "nbformat": 4,
  "nbformat_minor": 4
}