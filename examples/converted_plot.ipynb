{
  "cells": [
    {
      "cell_type": "markdown",
      "metadata": {
        "id": "TitleTop"
      },
      "source": "## Matplot example\n\n** Run the cell below to import some packages and show a line plot **"
    },
    {
      "cell_type": "code",
      "metadata": {
        "id": "PlotIt"
      },
      "source": [
        "import matplotlib.pyplot as plt\n",
        "import numpy as np\n",
        "import shutil\n",
        "\n",
        "if True:\n",
        "    !git clone https://github.com/MSFTserver/pytorch3d-lite.git\n",
        "    %cd pytorch3d-lite\n",
        "\n",
        "%cd ..\n",
        "shutil.rmtree('pytorch3d-lite')\n",
        "\n",
        "%env\n",
        "\n",
        "%env PATH\n",
        "\n",
        "%env TEST_COLAB_CONVERT=HELLO\n",
        "\n",
        "%set_env TEST_COLAB_CONVERT=HELLO\n",
        "\n",
        "%env TEST_COLAB_CONVERT\n",
        "\n",
        "%env TEST_COLAB_CONVERT GOODBYE\n",
        "\n",
        "%set_env TEST_COLAB_CONVERT GOODBYE\n",
        "\n",
        "%env TEST_COLAB_CONVERT\n",
        "\n",
        "%testing\n",
        "\n",
        "x = np.linspace(0, 20, 100)\n",
        "plt.plot(x, np.sin(x))\n",
        "plt.show()"
      ],
      "outputs": [],
      "execution_count": null
    }
  ],
  "metadata": {
    "anaconda-cloud": {},
    "kernelspec": {
      "display_name": "Python 3",
      "language": "python",
      "name": "python3"
    },
    "language_info": {
      "codemirror_mode": {
        "name": "ipython",
        "version": 3
      },
      "file_extension": ".py",
      "mimetype": "text/x-python",
      "name": "python",
      "nbconvert_exporter": "python",
      "pygments_lexer": "ipython3",
      "version": "3.6.1"
    }
  },
  "nbformat": 4,
  "nbformat_minor": 4
}